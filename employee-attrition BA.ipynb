{
 "cells": [
  {
   "cell_type": "code",
   "execution_count": 1,
   "id": "00377f94",
   "metadata": {
    "_cell_guid": "b1076dfc-b9ad-4769-8c92-a6c4dae69d19",
    "_uuid": "8f2839f25d086af736a60e9eeb907d3b93b6e0e5",
    "execution": {
     "iopub.execute_input": "2022-10-02T18:46:31.037191Z",
     "iopub.status.busy": "2022-10-02T18:46:31.036692Z",
     "iopub.status.idle": "2022-10-02T18:46:31.055963Z",
     "shell.execute_reply": "2022-10-02T18:46:31.054780Z"
    },
    "papermill": {
     "duration": 0.035903,
     "end_time": "2022-10-02T18:46:31.059299",
     "exception": false,
     "start_time": "2022-10-02T18:46:31.023396",
     "status": "completed"
    },
    "tags": []
   },
   "outputs": [],
   "source": [
    "# This Python 3 environment comes with many helpful analytics libraries installed\n",
    "# It is defined by the kaggle/python Docker image: https://github.com/kaggle/docker-python\n",
    "# For example, here's several helpful packages to load\n",
    "\n",
    "import numpy as np # linear algebra\n",
    "import pandas as pd # data processing, CSV file I/O (e.g. pd.read_csv)\n",
    "\n",
    "# Input data files are available in the read-only \"../input/\" directory\n",
    "# For example, running this (by clicking run or pressing Shift+Enter) will list all files under the input directory\n",
    "\n",
    "import os\n",
    "for dirname, _, filenames in os.walk('/kaggle/input'):\n",
    "    for filename in filenames:\n",
    "        print(os.path.join(dirname, filename))\n",
    "\n",
    "# You can write up to 20GB to the current directory (/kaggle/working/) that gets preserved as output when you create a version using \"Save & Run All\" \n",
    "# You can also write temporary files to /kaggle/temp/, but they won't be saved outside of the current session"
   ]
  },
  {
   "cell_type": "code",
   "execution_count": 2,
   "id": "94651644",
   "metadata": {
    "execution": {
     "iopub.execute_input": "2022-10-02T18:46:31.077202Z",
     "iopub.status.busy": "2022-10-02T18:46:31.076376Z",
     "iopub.status.idle": "2022-10-02T18:46:32.216857Z",
     "shell.execute_reply": "2022-10-02T18:46:32.215674Z"
    },
    "papermill": {
     "duration": 1.152013,
     "end_time": "2022-10-02T18:46:32.219621",
     "exception": false,
     "start_time": "2022-10-02T18:46:31.067608",
     "status": "completed"
    },
    "tags": []
   },
   "outputs": [],
   "source": [
    "import numpy as np\n",
    "import pandas as pd\n",
    "import os \n",
    "import seaborn as sns \n",
    "import warnings\n",
    "warnings.filterwarnings(\"ignore\")"
   ]
  },
  {
   "cell_type": "code",
   "execution_count": 3,
   "id": "9804ba13",
   "metadata": {
    "execution": {
     "iopub.execute_input": "2022-10-02T18:46:32.236973Z",
     "iopub.status.busy": "2022-10-02T18:46:32.236545Z",
     "iopub.status.idle": "2022-10-02T18:46:32.291278Z",
     "shell.execute_reply": "2022-10-02T18:46:32.290193Z"
    },
    "papermill": {
     "duration": 0.0662,
     "end_time": "2022-10-02T18:46:32.293754",
     "exception": false,
     "start_time": "2022-10-02T18:46:32.227554",
     "status": "completed"
    },
    "tags": []
   },
   "outputs": [
    {
     "data": {
      "text/html": [
       "<div>\n",
       "<style scoped>\n",
       "    .dataframe tbody tr th:only-of-type {\n",
       "        vertical-align: middle;\n",
       "    }\n",
       "\n",
       "    .dataframe tbody tr th {\n",
       "        vertical-align: top;\n",
       "    }\n",
       "\n",
       "    .dataframe thead th {\n",
       "        text-align: right;\n",
       "    }\n",
       "</style>\n",
       "<table border=\"1\" class=\"dataframe\">\n",
       "  <thead>\n",
       "    <tr style=\"text-align: right;\">\n",
       "      <th></th>\n",
       "      <th>Age</th>\n",
       "      <th>Attrition</th>\n",
       "      <th>BusinessTravel</th>\n",
       "      <th>DailyRate</th>\n",
       "      <th>Department</th>\n",
       "      <th>DistanceFromHome</th>\n",
       "      <th>Education</th>\n",
       "      <th>EducationField</th>\n",
       "      <th>EmployeeCount</th>\n",
       "      <th>EmployeeNumber</th>\n",
       "      <th>...</th>\n",
       "      <th>RelationshipSatisfaction</th>\n",
       "      <th>StandardHours</th>\n",
       "      <th>StockOptionLevel</th>\n",
       "      <th>TotalWorkingYears</th>\n",
       "      <th>TrainingTimesLastYear</th>\n",
       "      <th>WorkLifeBalance</th>\n",
       "      <th>YearsAtCompany</th>\n",
       "      <th>YearsInCurrentRole</th>\n",
       "      <th>YearsSinceLastPromotion</th>\n",
       "      <th>YearsWithCurrManager</th>\n",
       "    </tr>\n",
       "  </thead>\n",
       "  <tbody>\n",
       "    <tr>\n",
       "      <th>0</th>\n",
       "      <td>41</td>\n",
       "      <td>Yes</td>\n",
       "      <td>Travel_Rarely</td>\n",
       "      <td>1102</td>\n",
       "      <td>Sales</td>\n",
       "      <td>1</td>\n",
       "      <td>2</td>\n",
       "      <td>Life Sciences</td>\n",
       "      <td>1</td>\n",
       "      <td>1</td>\n",
       "      <td>...</td>\n",
       "      <td>1</td>\n",
       "      <td>80</td>\n",
       "      <td>0</td>\n",
       "      <td>8</td>\n",
       "      <td>0</td>\n",
       "      <td>1</td>\n",
       "      <td>6</td>\n",
       "      <td>4</td>\n",
       "      <td>0</td>\n",
       "      <td>5</td>\n",
       "    </tr>\n",
       "    <tr>\n",
       "      <th>1</th>\n",
       "      <td>49</td>\n",
       "      <td>No</td>\n",
       "      <td>Travel_Frequently</td>\n",
       "      <td>279</td>\n",
       "      <td>Research &amp; Development</td>\n",
       "      <td>8</td>\n",
       "      <td>1</td>\n",
       "      <td>Life Sciences</td>\n",
       "      <td>1</td>\n",
       "      <td>2</td>\n",
       "      <td>...</td>\n",
       "      <td>4</td>\n",
       "      <td>80</td>\n",
       "      <td>1</td>\n",
       "      <td>10</td>\n",
       "      <td>3</td>\n",
       "      <td>3</td>\n",
       "      <td>10</td>\n",
       "      <td>7</td>\n",
       "      <td>1</td>\n",
       "      <td>7</td>\n",
       "    </tr>\n",
       "    <tr>\n",
       "      <th>2</th>\n",
       "      <td>37</td>\n",
       "      <td>Yes</td>\n",
       "      <td>Travel_Rarely</td>\n",
       "      <td>1373</td>\n",
       "      <td>Research &amp; Development</td>\n",
       "      <td>2</td>\n",
       "      <td>2</td>\n",
       "      <td>Other</td>\n",
       "      <td>1</td>\n",
       "      <td>4</td>\n",
       "      <td>...</td>\n",
       "      <td>2</td>\n",
       "      <td>80</td>\n",
       "      <td>0</td>\n",
       "      <td>7</td>\n",
       "      <td>3</td>\n",
       "      <td>3</td>\n",
       "      <td>0</td>\n",
       "      <td>0</td>\n",
       "      <td>0</td>\n",
       "      <td>0</td>\n",
       "    </tr>\n",
       "    <tr>\n",
       "      <th>3</th>\n",
       "      <td>33</td>\n",
       "      <td>No</td>\n",
       "      <td>Travel_Frequently</td>\n",
       "      <td>1392</td>\n",
       "      <td>Research &amp; Development</td>\n",
       "      <td>3</td>\n",
       "      <td>4</td>\n",
       "      <td>Life Sciences</td>\n",
       "      <td>1</td>\n",
       "      <td>5</td>\n",
       "      <td>...</td>\n",
       "      <td>3</td>\n",
       "      <td>80</td>\n",
       "      <td>0</td>\n",
       "      <td>8</td>\n",
       "      <td>3</td>\n",
       "      <td>3</td>\n",
       "      <td>8</td>\n",
       "      <td>7</td>\n",
       "      <td>3</td>\n",
       "      <td>0</td>\n",
       "    </tr>\n",
       "    <tr>\n",
       "      <th>4</th>\n",
       "      <td>27</td>\n",
       "      <td>No</td>\n",
       "      <td>Travel_Rarely</td>\n",
       "      <td>591</td>\n",
       "      <td>Research &amp; Development</td>\n",
       "      <td>2</td>\n",
       "      <td>1</td>\n",
       "      <td>Medical</td>\n",
       "      <td>1</td>\n",
       "      <td>7</td>\n",
       "      <td>...</td>\n",
       "      <td>4</td>\n",
       "      <td>80</td>\n",
       "      <td>1</td>\n",
       "      <td>6</td>\n",
       "      <td>3</td>\n",
       "      <td>3</td>\n",
       "      <td>2</td>\n",
       "      <td>2</td>\n",
       "      <td>2</td>\n",
       "      <td>2</td>\n",
       "    </tr>\n",
       "  </tbody>\n",
       "</table>\n",
       "<p>5 rows × 35 columns</p>\n",
       "</div>"
      ],
      "text/plain": [
       "   Age Attrition     BusinessTravel  DailyRate              Department  \\\n",
       "0   41       Yes      Travel_Rarely       1102                   Sales   \n",
       "1   49        No  Travel_Frequently        279  Research & Development   \n",
       "2   37       Yes      Travel_Rarely       1373  Research & Development   \n",
       "3   33        No  Travel_Frequently       1392  Research & Development   \n",
       "4   27        No      Travel_Rarely        591  Research & Development   \n",
       "\n",
       "   DistanceFromHome  Education EducationField  EmployeeCount  EmployeeNumber  \\\n",
       "0                 1          2  Life Sciences              1               1   \n",
       "1                 8          1  Life Sciences              1               2   \n",
       "2                 2          2          Other              1               4   \n",
       "3                 3          4  Life Sciences              1               5   \n",
       "4                 2          1        Medical              1               7   \n",
       "\n",
       "   ...  RelationshipSatisfaction StandardHours  StockOptionLevel  \\\n",
       "0  ...                         1            80                 0   \n",
       "1  ...                         4            80                 1   \n",
       "2  ...                         2            80                 0   \n",
       "3  ...                         3            80                 0   \n",
       "4  ...                         4            80                 1   \n",
       "\n",
       "   TotalWorkingYears  TrainingTimesLastYear WorkLifeBalance  YearsAtCompany  \\\n",
       "0                  8                      0               1               6   \n",
       "1                 10                      3               3              10   \n",
       "2                  7                      3               3               0   \n",
       "3                  8                      3               3               8   \n",
       "4                  6                      3               3               2   \n",
       "\n",
       "  YearsInCurrentRole  YearsSinceLastPromotion  YearsWithCurrManager  \n",
       "0                  4                        0                     5  \n",
       "1                  7                        1                     7  \n",
       "2                  0                        0                     0  \n",
       "3                  7                        3                     0  \n",
       "4                  2                        2                     2  \n",
       "\n",
       "[5 rows x 35 columns]"
      ]
     },
     "execution_count": 3,
     "metadata": {},
     "output_type": "execute_result"
    }
   ],
   "source": [
    "data_attrition = pd.read_csv(\"HR Employee Attrition.csv\")\n",
    "data_attrition.head(5)"
   ]
  },
  {
   "cell_type": "code",
   "execution_count": 4,
   "id": "c74203b5",
   "metadata": {
    "execution": {
     "iopub.execute_input": "2022-10-02T18:46:32.311501Z",
     "iopub.status.busy": "2022-10-02T18:46:32.310779Z",
     "iopub.status.idle": "2022-10-02T18:46:32.317175Z",
     "shell.execute_reply": "2022-10-02T18:46:32.316167Z"
    },
    "papermill": {
     "duration": 0.017683,
     "end_time": "2022-10-02T18:46:32.319439",
     "exception": false,
     "start_time": "2022-10-02T18:46:32.301756",
     "status": "completed"
    },
    "tags": []
   },
   "outputs": [
    {
     "data": {
      "text/plain": [
       "Index(['Age', 'Attrition', 'BusinessTravel', 'DailyRate', 'Department',\n",
       "       'DistanceFromHome', 'Education', 'EducationField', 'EmployeeCount',\n",
       "       'EmployeeNumber', 'EnvironmentSatisfaction', 'Gender', 'HourlyRate',\n",
       "       'JobInvolvement', 'JobLevel', 'JobRole', 'JobSatisfaction',\n",
       "       'MaritalStatus', 'MonthlyIncome', 'MonthlyRate', 'NumCompaniesWorked',\n",
       "       'Over18', 'OverTime', 'PercentSalaryHike', 'PerformanceRating',\n",
       "       'RelationshipSatisfaction', 'StandardHours', 'StockOptionLevel',\n",
       "       'TotalWorkingYears', 'TrainingTimesLastYear', 'WorkLifeBalance',\n",
       "       'YearsAtCompany', 'YearsInCurrentRole', 'YearsSinceLastPromotion',\n",
       "       'YearsWithCurrManager'],\n",
       "      dtype='object')"
      ]
     },
     "execution_count": 4,
     "metadata": {},
     "output_type": "execute_result"
    }
   ],
   "source": [
    "data_attrition.columns"
   ]
  },
  {
   "cell_type": "code",
   "execution_count": 5,
   "id": "33137719",
   "metadata": {
    "execution": {
     "iopub.execute_input": "2022-10-02T18:46:32.337091Z",
     "iopub.status.busy": "2022-10-02T18:46:32.336036Z",
     "iopub.status.idle": "2022-10-02T18:46:32.345834Z",
     "shell.execute_reply": "2022-10-02T18:46:32.344745Z"
    },
    "papermill": {
     "duration": 0.021277,
     "end_time": "2022-10-02T18:46:32.348524",
     "exception": false,
     "start_time": "2022-10-02T18:46:32.327247",
     "status": "completed"
    },
    "tags": []
   },
   "outputs": [],
   "source": [
    "# Pre-pruning \n",
    "data_attrition.drop(columns=['Age', 'BusinessTravel', 'Department', 'Education', 'EducationField',\n",
    "                            'EmployeeCount', 'StandardHours', 'StockOptionLevel', 'DistanceFromHome'\n",
    "                            ,'JobInvolvement','MaritalStatus','Over18','TrainingTimesLastYear','OverTime'], axis=1, inplace=True)\n"
   ]
  },
  {
   "cell_type": "code",
   "execution_count": 6,
   "id": "8aa34a3a",
   "metadata": {
    "execution": {
     "iopub.execute_input": "2022-10-02T18:46:32.367498Z",
     "iopub.status.busy": "2022-10-02T18:46:32.367063Z",
     "iopub.status.idle": "2022-10-02T18:46:32.389523Z",
     "shell.execute_reply": "2022-10-02T18:46:32.387480Z"
    },
    "papermill": {
     "duration": 0.035475,
     "end_time": "2022-10-02T18:46:32.393342",
     "exception": false,
     "start_time": "2022-10-02T18:46:32.357867",
     "status": "completed"
    },
    "tags": []
   },
   "outputs": [
    {
     "name": "stdout",
     "output_type": "stream",
     "text": [
      "<class 'pandas.core.frame.DataFrame'>\n",
      "RangeIndex: 1470 entries, 0 to 1469\n",
      "Data columns (total 21 columns):\n",
      " #   Column                    Non-Null Count  Dtype \n",
      "---  ------                    --------------  ----- \n",
      " 0   Attrition                 1470 non-null   object\n",
      " 1   DailyRate                 1470 non-null   int64 \n",
      " 2   EmployeeNumber            1470 non-null   int64 \n",
      " 3   EnvironmentSatisfaction   1470 non-null   int64 \n",
      " 4   Gender                    1470 non-null   object\n",
      " 5   HourlyRate                1470 non-null   int64 \n",
      " 6   JobLevel                  1470 non-null   int64 \n",
      " 7   JobRole                   1470 non-null   object\n",
      " 8   JobSatisfaction           1470 non-null   int64 \n",
      " 9   MonthlyIncome             1470 non-null   int64 \n",
      " 10  MonthlyRate               1470 non-null   int64 \n",
      " 11  NumCompaniesWorked        1470 non-null   int64 \n",
      " 12  PercentSalaryHike         1470 non-null   int64 \n",
      " 13  PerformanceRating         1470 non-null   int64 \n",
      " 14  RelationshipSatisfaction  1470 non-null   int64 \n",
      " 15  TotalWorkingYears         1470 non-null   int64 \n",
      " 16  WorkLifeBalance           1470 non-null   int64 \n",
      " 17  YearsAtCompany            1470 non-null   int64 \n",
      " 18  YearsInCurrentRole        1470 non-null   int64 \n",
      " 19  YearsSinceLastPromotion   1470 non-null   int64 \n",
      " 20  YearsWithCurrManager      1470 non-null   int64 \n",
      "dtypes: int64(18), object(3)\n",
      "memory usage: 241.3+ KB\n"
     ]
    }
   ],
   "source": [
    "data_attrition.info()"
   ]
  },
  {
   "cell_type": "code",
   "execution_count": 7,
   "id": "f3e42062",
   "metadata": {
    "execution": {
     "iopub.execute_input": "2022-10-02T18:46:32.411773Z",
     "iopub.status.busy": "2022-10-02T18:46:32.411356Z",
     "iopub.status.idle": "2022-10-02T18:46:32.421822Z",
     "shell.execute_reply": "2022-10-02T18:46:32.420521Z"
    },
    "papermill": {
     "duration": 0.022305,
     "end_time": "2022-10-02T18:46:32.424243",
     "exception": false,
     "start_time": "2022-10-02T18:46:32.401938",
     "status": "completed"
    },
    "tags": []
   },
   "outputs": [
    {
     "data": {
      "text/plain": [
       "Attrition                   0\n",
       "DailyRate                   0\n",
       "EmployeeNumber              0\n",
       "EnvironmentSatisfaction     0\n",
       "Gender                      0\n",
       "HourlyRate                  0\n",
       "JobLevel                    0\n",
       "JobRole                     0\n",
       "JobSatisfaction             0\n",
       "MonthlyIncome               0\n",
       "MonthlyRate                 0\n",
       "NumCompaniesWorked          0\n",
       "PercentSalaryHike           0\n",
       "PerformanceRating           0\n",
       "RelationshipSatisfaction    0\n",
       "TotalWorkingYears           0\n",
       "WorkLifeBalance             0\n",
       "YearsAtCompany              0\n",
       "YearsInCurrentRole          0\n",
       "YearsSinceLastPromotion     0\n",
       "YearsWithCurrManager        0\n",
       "dtype: int64"
      ]
     },
     "execution_count": 7,
     "metadata": {},
     "output_type": "execute_result"
    }
   ],
   "source": [
    "# Check Null Values \n",
    "data_attrition.isna().sum()\n"
   ]
  },
  {
   "cell_type": "code",
   "execution_count": 8,
   "id": "ee609dc2",
   "metadata": {
    "execution": {
     "iopub.execute_input": "2022-10-02T18:46:32.442140Z",
     "iopub.status.busy": "2022-10-02T18:46:32.441743Z",
     "iopub.status.idle": "2022-10-02T18:46:32.458732Z",
     "shell.execute_reply": "2022-10-02T18:46:32.457735Z"
    },
    "papermill": {
     "duration": 0.028889,
     "end_time": "2022-10-02T18:46:32.461272",
     "exception": false,
     "start_time": "2022-10-02T18:46:32.432383",
     "status": "completed"
    },
    "tags": []
   },
   "outputs": [],
   "source": [
    "# Label and one hot encoding on Gender and Job Role\n",
    "data_attrition['Gender']=data_attrition['Gender'].astype('category')\n",
    "data_attrition['JobRole']=data_attrition['JobRole'].astype('category')\n",
    "data_attrition['Gender']=data_attrition['Gender'].cat.codes\n",
    "data_attrition['JobRole']=data_attrition['JobRole'].cat.codes\n",
    "\n",
    "data_attrition=pd.get_dummies(data_attrition, columns=['Gender', 'JobRole'])\n",
    "\n",
    "data_attrition.drop(columns=['Gender_0', 'JobRole_0'], axis=1, inplace=True)"
   ]
  },
  {
   "cell_type": "code",
   "execution_count": 9,
   "id": "741cbdd7",
   "metadata": {
    "execution": {
     "iopub.execute_input": "2022-10-02T18:46:32.478962Z",
     "iopub.status.busy": "2022-10-02T18:46:32.478581Z",
     "iopub.status.idle": "2022-10-02T18:46:32.494278Z",
     "shell.execute_reply": "2022-10-02T18:46:32.493027Z"
    },
    "papermill": {
     "duration": 0.027433,
     "end_time": "2022-10-02T18:46:32.496817",
     "exception": false,
     "start_time": "2022-10-02T18:46:32.469384",
     "status": "completed"
    },
    "tags": []
   },
   "outputs": [
    {
     "name": "stdout",
     "output_type": "stream",
     "text": [
      "<class 'pandas.core.frame.DataFrame'>\n",
      "RangeIndex: 1470 entries, 0 to 1469\n",
      "Data columns (total 28 columns):\n",
      " #   Column                    Non-Null Count  Dtype \n",
      "---  ------                    --------------  ----- \n",
      " 0   Attrition                 1470 non-null   object\n",
      " 1   DailyRate                 1470 non-null   int64 \n",
      " 2   EmployeeNumber            1470 non-null   int64 \n",
      " 3   EnvironmentSatisfaction   1470 non-null   int64 \n",
      " 4   HourlyRate                1470 non-null   int64 \n",
      " 5   JobLevel                  1470 non-null   int64 \n",
      " 6   JobSatisfaction           1470 non-null   int64 \n",
      " 7   MonthlyIncome             1470 non-null   int64 \n",
      " 8   MonthlyRate               1470 non-null   int64 \n",
      " 9   NumCompaniesWorked        1470 non-null   int64 \n",
      " 10  PercentSalaryHike         1470 non-null   int64 \n",
      " 11  PerformanceRating         1470 non-null   int64 \n",
      " 12  RelationshipSatisfaction  1470 non-null   int64 \n",
      " 13  TotalWorkingYears         1470 non-null   int64 \n",
      " 14  WorkLifeBalance           1470 non-null   int64 \n",
      " 15  YearsAtCompany            1470 non-null   int64 \n",
      " 16  YearsInCurrentRole        1470 non-null   int64 \n",
      " 17  YearsSinceLastPromotion   1470 non-null   int64 \n",
      " 18  YearsWithCurrManager      1470 non-null   int64 \n",
      " 19  Gender_1                  1470 non-null   uint8 \n",
      " 20  JobRole_1                 1470 non-null   uint8 \n",
      " 21  JobRole_2                 1470 non-null   uint8 \n",
      " 22  JobRole_3                 1470 non-null   uint8 \n",
      " 23  JobRole_4                 1470 non-null   uint8 \n",
      " 24  JobRole_5                 1470 non-null   uint8 \n",
      " 25  JobRole_6                 1470 non-null   uint8 \n",
      " 26  JobRole_7                 1470 non-null   uint8 \n",
      " 27  JobRole_8                 1470 non-null   uint8 \n",
      "dtypes: int64(18), object(1), uint8(9)\n",
      "memory usage: 231.2+ KB\n"
     ]
    }
   ],
   "source": [
    "data_attrition.info()"
   ]
  },
  {
   "cell_type": "code",
   "execution_count": 10,
   "id": "bc885e82",
   "metadata": {
    "execution": {
     "iopub.execute_input": "2022-10-02T18:46:32.514981Z",
     "iopub.status.busy": "2022-10-02T18:46:32.514593Z",
     "iopub.status.idle": "2022-10-02T18:46:32.520111Z",
     "shell.execute_reply": "2022-10-02T18:46:32.519070Z"
    },
    "papermill": {
     "duration": 0.017427,
     "end_time": "2022-10-02T18:46:32.522356",
     "exception": false,
     "start_time": "2022-10-02T18:46:32.504929",
     "status": "completed"
    },
    "tags": []
   },
   "outputs": [],
   "source": [
    "# Split Independent and dependent variables \n",
    "x=data_attrition.iloc[:,1:]\n",
    "y=data_attrition.iloc[:,0:1]"
   ]
  },
  {
   "cell_type": "code",
   "execution_count": 11,
   "id": "b0529360",
   "metadata": {
    "execution": {
     "iopub.execute_input": "2022-10-02T18:46:32.540340Z",
     "iopub.status.busy": "2022-10-02T18:46:32.539886Z",
     "iopub.status.idle": "2022-10-02T18:46:32.564945Z",
     "shell.execute_reply": "2022-10-02T18:46:32.563655Z"
    },
    "papermill": {
     "duration": 0.036937,
     "end_time": "2022-10-02T18:46:32.567473",
     "exception": false,
     "start_time": "2022-10-02T18:46:32.530536",
     "status": "completed"
    },
    "tags": []
   },
   "outputs": [
    {
     "data": {
      "text/html": [
       "<div>\n",
       "<style scoped>\n",
       "    .dataframe tbody tr th:only-of-type {\n",
       "        vertical-align: middle;\n",
       "    }\n",
       "\n",
       "    .dataframe tbody tr th {\n",
       "        vertical-align: top;\n",
       "    }\n",
       "\n",
       "    .dataframe thead th {\n",
       "        text-align: right;\n",
       "    }\n",
       "</style>\n",
       "<table border=\"1\" class=\"dataframe\">\n",
       "  <thead>\n",
       "    <tr style=\"text-align: right;\">\n",
       "      <th></th>\n",
       "      <th>DailyRate</th>\n",
       "      <th>EmployeeNumber</th>\n",
       "      <th>EnvironmentSatisfaction</th>\n",
       "      <th>HourlyRate</th>\n",
       "      <th>JobLevel</th>\n",
       "      <th>JobSatisfaction</th>\n",
       "      <th>MonthlyIncome</th>\n",
       "      <th>MonthlyRate</th>\n",
       "      <th>NumCompaniesWorked</th>\n",
       "      <th>PercentSalaryHike</th>\n",
       "      <th>...</th>\n",
       "      <th>YearsWithCurrManager</th>\n",
       "      <th>Gender_1</th>\n",
       "      <th>JobRole_1</th>\n",
       "      <th>JobRole_2</th>\n",
       "      <th>JobRole_3</th>\n",
       "      <th>JobRole_4</th>\n",
       "      <th>JobRole_5</th>\n",
       "      <th>JobRole_6</th>\n",
       "      <th>JobRole_7</th>\n",
       "      <th>JobRole_8</th>\n",
       "    </tr>\n",
       "  </thead>\n",
       "  <tbody>\n",
       "    <tr>\n",
       "      <th>0</th>\n",
       "      <td>1102</td>\n",
       "      <td>1</td>\n",
       "      <td>2</td>\n",
       "      <td>94</td>\n",
       "      <td>2</td>\n",
       "      <td>4</td>\n",
       "      <td>5993</td>\n",
       "      <td>19479</td>\n",
       "      <td>8</td>\n",
       "      <td>11</td>\n",
       "      <td>...</td>\n",
       "      <td>5</td>\n",
       "      <td>0</td>\n",
       "      <td>0</td>\n",
       "      <td>0</td>\n",
       "      <td>0</td>\n",
       "      <td>0</td>\n",
       "      <td>0</td>\n",
       "      <td>0</td>\n",
       "      <td>1</td>\n",
       "      <td>0</td>\n",
       "    </tr>\n",
       "    <tr>\n",
       "      <th>1</th>\n",
       "      <td>279</td>\n",
       "      <td>2</td>\n",
       "      <td>3</td>\n",
       "      <td>61</td>\n",
       "      <td>2</td>\n",
       "      <td>2</td>\n",
       "      <td>5130</td>\n",
       "      <td>24907</td>\n",
       "      <td>1</td>\n",
       "      <td>23</td>\n",
       "      <td>...</td>\n",
       "      <td>7</td>\n",
       "      <td>1</td>\n",
       "      <td>0</td>\n",
       "      <td>0</td>\n",
       "      <td>0</td>\n",
       "      <td>0</td>\n",
       "      <td>0</td>\n",
       "      <td>1</td>\n",
       "      <td>0</td>\n",
       "      <td>0</td>\n",
       "    </tr>\n",
       "    <tr>\n",
       "      <th>2</th>\n",
       "      <td>1373</td>\n",
       "      <td>4</td>\n",
       "      <td>4</td>\n",
       "      <td>92</td>\n",
       "      <td>1</td>\n",
       "      <td>3</td>\n",
       "      <td>2090</td>\n",
       "      <td>2396</td>\n",
       "      <td>6</td>\n",
       "      <td>15</td>\n",
       "      <td>...</td>\n",
       "      <td>0</td>\n",
       "      <td>1</td>\n",
       "      <td>0</td>\n",
       "      <td>1</td>\n",
       "      <td>0</td>\n",
       "      <td>0</td>\n",
       "      <td>0</td>\n",
       "      <td>0</td>\n",
       "      <td>0</td>\n",
       "      <td>0</td>\n",
       "    </tr>\n",
       "    <tr>\n",
       "      <th>3</th>\n",
       "      <td>1392</td>\n",
       "      <td>5</td>\n",
       "      <td>4</td>\n",
       "      <td>56</td>\n",
       "      <td>1</td>\n",
       "      <td>3</td>\n",
       "      <td>2909</td>\n",
       "      <td>23159</td>\n",
       "      <td>1</td>\n",
       "      <td>11</td>\n",
       "      <td>...</td>\n",
       "      <td>0</td>\n",
       "      <td>0</td>\n",
       "      <td>0</td>\n",
       "      <td>0</td>\n",
       "      <td>0</td>\n",
       "      <td>0</td>\n",
       "      <td>0</td>\n",
       "      <td>1</td>\n",
       "      <td>0</td>\n",
       "      <td>0</td>\n",
       "    </tr>\n",
       "    <tr>\n",
       "      <th>4</th>\n",
       "      <td>591</td>\n",
       "      <td>7</td>\n",
       "      <td>1</td>\n",
       "      <td>40</td>\n",
       "      <td>1</td>\n",
       "      <td>2</td>\n",
       "      <td>3468</td>\n",
       "      <td>16632</td>\n",
       "      <td>9</td>\n",
       "      <td>12</td>\n",
       "      <td>...</td>\n",
       "      <td>2</td>\n",
       "      <td>1</td>\n",
       "      <td>0</td>\n",
       "      <td>1</td>\n",
       "      <td>0</td>\n",
       "      <td>0</td>\n",
       "      <td>0</td>\n",
       "      <td>0</td>\n",
       "      <td>0</td>\n",
       "      <td>0</td>\n",
       "    </tr>\n",
       "    <tr>\n",
       "      <th>...</th>\n",
       "      <td>...</td>\n",
       "      <td>...</td>\n",
       "      <td>...</td>\n",
       "      <td>...</td>\n",
       "      <td>...</td>\n",
       "      <td>...</td>\n",
       "      <td>...</td>\n",
       "      <td>...</td>\n",
       "      <td>...</td>\n",
       "      <td>...</td>\n",
       "      <td>...</td>\n",
       "      <td>...</td>\n",
       "      <td>...</td>\n",
       "      <td>...</td>\n",
       "      <td>...</td>\n",
       "      <td>...</td>\n",
       "      <td>...</td>\n",
       "      <td>...</td>\n",
       "      <td>...</td>\n",
       "      <td>...</td>\n",
       "      <td>...</td>\n",
       "    </tr>\n",
       "    <tr>\n",
       "      <th>1465</th>\n",
       "      <td>884</td>\n",
       "      <td>2061</td>\n",
       "      <td>3</td>\n",
       "      <td>41</td>\n",
       "      <td>2</td>\n",
       "      <td>4</td>\n",
       "      <td>2571</td>\n",
       "      <td>12290</td>\n",
       "      <td>4</td>\n",
       "      <td>17</td>\n",
       "      <td>...</td>\n",
       "      <td>3</td>\n",
       "      <td>1</td>\n",
       "      <td>0</td>\n",
       "      <td>1</td>\n",
       "      <td>0</td>\n",
       "      <td>0</td>\n",
       "      <td>0</td>\n",
       "      <td>0</td>\n",
       "      <td>0</td>\n",
       "      <td>0</td>\n",
       "    </tr>\n",
       "    <tr>\n",
       "      <th>1466</th>\n",
       "      <td>613</td>\n",
       "      <td>2062</td>\n",
       "      <td>4</td>\n",
       "      <td>42</td>\n",
       "      <td>3</td>\n",
       "      <td>1</td>\n",
       "      <td>9991</td>\n",
       "      <td>21457</td>\n",
       "      <td>4</td>\n",
       "      <td>15</td>\n",
       "      <td>...</td>\n",
       "      <td>7</td>\n",
       "      <td>1</td>\n",
       "      <td>0</td>\n",
       "      <td>0</td>\n",
       "      <td>0</td>\n",
       "      <td>0</td>\n",
       "      <td>0</td>\n",
       "      <td>0</td>\n",
       "      <td>0</td>\n",
       "      <td>0</td>\n",
       "    </tr>\n",
       "    <tr>\n",
       "      <th>1467</th>\n",
       "      <td>155</td>\n",
       "      <td>2064</td>\n",
       "      <td>2</td>\n",
       "      <td>87</td>\n",
       "      <td>2</td>\n",
       "      <td>2</td>\n",
       "      <td>6142</td>\n",
       "      <td>5174</td>\n",
       "      <td>1</td>\n",
       "      <td>20</td>\n",
       "      <td>...</td>\n",
       "      <td>3</td>\n",
       "      <td>1</td>\n",
       "      <td>0</td>\n",
       "      <td>0</td>\n",
       "      <td>0</td>\n",
       "      <td>1</td>\n",
       "      <td>0</td>\n",
       "      <td>0</td>\n",
       "      <td>0</td>\n",
       "      <td>0</td>\n",
       "    </tr>\n",
       "    <tr>\n",
       "      <th>1468</th>\n",
       "      <td>1023</td>\n",
       "      <td>2065</td>\n",
       "      <td>4</td>\n",
       "      <td>63</td>\n",
       "      <td>2</td>\n",
       "      <td>2</td>\n",
       "      <td>5390</td>\n",
       "      <td>13243</td>\n",
       "      <td>2</td>\n",
       "      <td>14</td>\n",
       "      <td>...</td>\n",
       "      <td>8</td>\n",
       "      <td>1</td>\n",
       "      <td>0</td>\n",
       "      <td>0</td>\n",
       "      <td>0</td>\n",
       "      <td>0</td>\n",
       "      <td>0</td>\n",
       "      <td>0</td>\n",
       "      <td>1</td>\n",
       "      <td>0</td>\n",
       "    </tr>\n",
       "    <tr>\n",
       "      <th>1469</th>\n",
       "      <td>628</td>\n",
       "      <td>2068</td>\n",
       "      <td>2</td>\n",
       "      <td>82</td>\n",
       "      <td>2</td>\n",
       "      <td>3</td>\n",
       "      <td>4404</td>\n",
       "      <td>10228</td>\n",
       "      <td>2</td>\n",
       "      <td>12</td>\n",
       "      <td>...</td>\n",
       "      <td>2</td>\n",
       "      <td>1</td>\n",
       "      <td>0</td>\n",
       "      <td>1</td>\n",
       "      <td>0</td>\n",
       "      <td>0</td>\n",
       "      <td>0</td>\n",
       "      <td>0</td>\n",
       "      <td>0</td>\n",
       "      <td>0</td>\n",
       "    </tr>\n",
       "  </tbody>\n",
       "</table>\n",
       "<p>1470 rows × 27 columns</p>\n",
       "</div>"
      ],
      "text/plain": [
       "      DailyRate  EmployeeNumber  EnvironmentSatisfaction  HourlyRate  \\\n",
       "0          1102               1                        2          94   \n",
       "1           279               2                        3          61   \n",
       "2          1373               4                        4          92   \n",
       "3          1392               5                        4          56   \n",
       "4           591               7                        1          40   \n",
       "...         ...             ...                      ...         ...   \n",
       "1465        884            2061                        3          41   \n",
       "1466        613            2062                        4          42   \n",
       "1467        155            2064                        2          87   \n",
       "1468       1023            2065                        4          63   \n",
       "1469        628            2068                        2          82   \n",
       "\n",
       "      JobLevel  JobSatisfaction  MonthlyIncome  MonthlyRate  \\\n",
       "0            2                4           5993        19479   \n",
       "1            2                2           5130        24907   \n",
       "2            1                3           2090         2396   \n",
       "3            1                3           2909        23159   \n",
       "4            1                2           3468        16632   \n",
       "...        ...              ...            ...          ...   \n",
       "1465         2                4           2571        12290   \n",
       "1466         3                1           9991        21457   \n",
       "1467         2                2           6142         5174   \n",
       "1468         2                2           5390        13243   \n",
       "1469         2                3           4404        10228   \n",
       "\n",
       "      NumCompaniesWorked  PercentSalaryHike  ...  YearsWithCurrManager  \\\n",
       "0                      8                 11  ...                     5   \n",
       "1                      1                 23  ...                     7   \n",
       "2                      6                 15  ...                     0   \n",
       "3                      1                 11  ...                     0   \n",
       "4                      9                 12  ...                     2   \n",
       "...                  ...                ...  ...                   ...   \n",
       "1465                   4                 17  ...                     3   \n",
       "1466                   4                 15  ...                     7   \n",
       "1467                   1                 20  ...                     3   \n",
       "1468                   2                 14  ...                     8   \n",
       "1469                   2                 12  ...                     2   \n",
       "\n",
       "      Gender_1  JobRole_1  JobRole_2  JobRole_3  JobRole_4  JobRole_5  \\\n",
       "0            0          0          0          0          0          0   \n",
       "1            1          0          0          0          0          0   \n",
       "2            1          0          1          0          0          0   \n",
       "3            0          0          0          0          0          0   \n",
       "4            1          0          1          0          0          0   \n",
       "...        ...        ...        ...        ...        ...        ...   \n",
       "1465         1          0          1          0          0          0   \n",
       "1466         1          0          0          0          0          0   \n",
       "1467         1          0          0          0          1          0   \n",
       "1468         1          0          0          0          0          0   \n",
       "1469         1          0          1          0          0          0   \n",
       "\n",
       "      JobRole_6  JobRole_7  JobRole_8  \n",
       "0             0          1          0  \n",
       "1             1          0          0  \n",
       "2             0          0          0  \n",
       "3             1          0          0  \n",
       "4             0          0          0  \n",
       "...         ...        ...        ...  \n",
       "1465          0          0          0  \n",
       "1466          0          0          0  \n",
       "1467          0          0          0  \n",
       "1468          0          1          0  \n",
       "1469          0          0          0  \n",
       "\n",
       "[1470 rows x 27 columns]"
      ]
     },
     "execution_count": 11,
     "metadata": {},
     "output_type": "execute_result"
    }
   ],
   "source": [
    "x"
   ]
  },
  {
   "cell_type": "code",
   "execution_count": 12,
   "id": "7ca6fc8d",
   "metadata": {
    "execution": {
     "iopub.execute_input": "2022-10-02T18:46:32.587538Z",
     "iopub.status.busy": "2022-10-02T18:46:32.587158Z",
     "iopub.status.idle": "2022-10-02T18:46:32.598810Z",
     "shell.execute_reply": "2022-10-02T18:46:32.597780Z"
    },
    "papermill": {
     "duration": 0.024256,
     "end_time": "2022-10-02T18:46:32.600863",
     "exception": false,
     "start_time": "2022-10-02T18:46:32.576607",
     "status": "completed"
    },
    "tags": []
   },
   "outputs": [
    {
     "data": {
      "text/html": [
       "<div>\n",
       "<style scoped>\n",
       "    .dataframe tbody tr th:only-of-type {\n",
       "        vertical-align: middle;\n",
       "    }\n",
       "\n",
       "    .dataframe tbody tr th {\n",
       "        vertical-align: top;\n",
       "    }\n",
       "\n",
       "    .dataframe thead th {\n",
       "        text-align: right;\n",
       "    }\n",
       "</style>\n",
       "<table border=\"1\" class=\"dataframe\">\n",
       "  <thead>\n",
       "    <tr style=\"text-align: right;\">\n",
       "      <th></th>\n",
       "      <th>Attrition</th>\n",
       "    </tr>\n",
       "  </thead>\n",
       "  <tbody>\n",
       "    <tr>\n",
       "      <th>0</th>\n",
       "      <td>Yes</td>\n",
       "    </tr>\n",
       "    <tr>\n",
       "      <th>1</th>\n",
       "      <td>No</td>\n",
       "    </tr>\n",
       "    <tr>\n",
       "      <th>2</th>\n",
       "      <td>Yes</td>\n",
       "    </tr>\n",
       "    <tr>\n",
       "      <th>3</th>\n",
       "      <td>No</td>\n",
       "    </tr>\n",
       "    <tr>\n",
       "      <th>4</th>\n",
       "      <td>No</td>\n",
       "    </tr>\n",
       "    <tr>\n",
       "      <th>...</th>\n",
       "      <td>...</td>\n",
       "    </tr>\n",
       "    <tr>\n",
       "      <th>1465</th>\n",
       "      <td>No</td>\n",
       "    </tr>\n",
       "    <tr>\n",
       "      <th>1466</th>\n",
       "      <td>No</td>\n",
       "    </tr>\n",
       "    <tr>\n",
       "      <th>1467</th>\n",
       "      <td>No</td>\n",
       "    </tr>\n",
       "    <tr>\n",
       "      <th>1468</th>\n",
       "      <td>No</td>\n",
       "    </tr>\n",
       "    <tr>\n",
       "      <th>1469</th>\n",
       "      <td>No</td>\n",
       "    </tr>\n",
       "  </tbody>\n",
       "</table>\n",
       "<p>1470 rows × 1 columns</p>\n",
       "</div>"
      ],
      "text/plain": [
       "     Attrition\n",
       "0          Yes\n",
       "1           No\n",
       "2          Yes\n",
       "3           No\n",
       "4           No\n",
       "...        ...\n",
       "1465        No\n",
       "1466        No\n",
       "1467        No\n",
       "1468        No\n",
       "1469        No\n",
       "\n",
       "[1470 rows x 1 columns]"
      ]
     },
     "execution_count": 12,
     "metadata": {},
     "output_type": "execute_result"
    }
   ],
   "source": [
    "y"
   ]
  },
  {
   "cell_type": "code",
   "execution_count": 13,
   "id": "ae9e53b0",
   "metadata": {
    "execution": {
     "iopub.execute_input": "2022-10-02T18:46:32.620632Z",
     "iopub.status.busy": "2022-10-02T18:46:32.619992Z",
     "iopub.status.idle": "2022-10-02T18:46:32.778092Z",
     "shell.execute_reply": "2022-10-02T18:46:32.776837Z"
    },
    "papermill": {
     "duration": 0.170973,
     "end_time": "2022-10-02T18:46:32.780712",
     "exception": false,
     "start_time": "2022-10-02T18:46:32.609739",
     "status": "completed"
    },
    "tags": []
   },
   "outputs": [],
   "source": [
    "# Using Robust Scaler for preprocessing\n",
    "from sklearn.preprocessing import RobustScaler\n",
    "robo_scaler=RobustScaler()\n",
    "x_scaled=robo_scaler.fit_transform(x)"
   ]
  },
  {
   "cell_type": "code",
   "execution_count": 14,
   "id": "cc717df4",
   "metadata": {
    "execution": {
     "iopub.execute_input": "2022-10-02T18:46:32.800379Z",
     "iopub.status.busy": "2022-10-02T18:46:32.799784Z",
     "iopub.status.idle": "2022-10-02T18:46:32.809286Z",
     "shell.execute_reply": "2022-10-02T18:46:32.808107Z"
    },
    "papermill": {
     "duration": 0.022312,
     "end_time": "2022-10-02T18:46:32.811997",
     "exception": false,
     "start_time": "2022-10-02T18:46:32.789685",
     "status": "completed"
    },
    "tags": []
   },
   "outputs": [
    {
     "data": {
      "text/plain": [
       "No     1233\n",
       "Yes     237\n",
       "Name: Attrition, dtype: int64"
      ]
     },
     "execution_count": 14,
     "metadata": {},
     "output_type": "execute_result"
    }
   ],
   "source": [
    "# Checking balance or imbalance data \n",
    "data_attrition['Attrition'].value_counts()"
   ]
  },
  {
   "cell_type": "code",
   "execution_count": 15,
   "id": "735041db",
   "metadata": {
    "execution": {
     "iopub.execute_input": "2022-10-02T18:46:32.831876Z",
     "iopub.status.busy": "2022-10-02T18:46:32.831460Z",
     "iopub.status.idle": "2022-10-02T18:46:33.239961Z",
     "shell.execute_reply": "2022-10-02T18:46:33.238335Z"
    },
    "papermill": {
     "duration": 0.423451,
     "end_time": "2022-10-02T18:46:33.244537",
     "exception": false,
     "start_time": "2022-10-02T18:46:32.821086",
     "status": "completed"
    },
    "tags": []
   },
   "outputs": [],
   "source": [
    "# Rectify imbalance dataset by using SMOTE\n",
    "from imblearn.over_sampling import SMOTE \n",
    "sampling=SMOTE()\n",
    "X_resp, Y_resp=sampling.fit_resample(x_scaled,y)"
   ]
  },
  {
   "cell_type": "code",
   "execution_count": 16,
   "id": "6031e252",
   "metadata": {
    "execution": {
     "iopub.execute_input": "2022-10-02T18:46:33.293466Z",
     "iopub.status.busy": "2022-10-02T18:46:33.292713Z",
     "iopub.status.idle": "2022-10-02T18:46:33.309607Z",
     "shell.execute_reply": "2022-10-02T18:46:33.308078Z"
    },
    "papermill": {
     "duration": 0.046373,
     "end_time": "2022-10-02T18:46:33.313771",
     "exception": false,
     "start_time": "2022-10-02T18:46:33.267398",
     "status": "completed"
    },
    "tags": []
   },
   "outputs": [
    {
     "data": {
      "text/plain": [
       "Attrition\n",
       "No           1233\n",
       "Yes          1233\n",
       "dtype: int64"
      ]
     },
     "execution_count": 16,
     "metadata": {},
     "output_type": "execute_result"
    }
   ],
   "source": [
    "Y_resp.value_counts()"
   ]
  },
  {
   "cell_type": "code",
   "execution_count": 17,
   "id": "0051f1fa",
   "metadata": {
    "execution": {
     "iopub.execute_input": "2022-10-02T18:46:33.355710Z",
     "iopub.status.busy": "2022-10-02T18:46:33.354992Z",
     "iopub.status.idle": "2022-10-02T18:46:33.855939Z",
     "shell.execute_reply": "2022-10-02T18:46:33.854647Z"
    },
    "papermill": {
     "duration": 0.521426,
     "end_time": "2022-10-02T18:46:33.858767",
     "exception": false,
     "start_time": "2022-10-02T18:46:33.337341",
     "status": "completed"
    },
    "tags": []
   },
   "outputs": [
    {
     "data": {
      "text/plain": [
       "<AxesSubplot:>"
      ]
     },
     "execution_count": 17,
     "metadata": {},
     "output_type": "execute_result"
    },
    {
     "data": {
      "image/png": "[encoded data removed]",
      "text/plain": [
       "<Figure size 432x288 with 2 Axes>"
      ]
     },
     "metadata": {
      "needs_background": "light"
     },
     "output_type": "display_data"
    }
   ],
   "source": [
    "sns.heatmap(data_attrition.corr(), cmap='viridis')"
   ]
  },
  {
   "cell_type": "code",
   "execution_count": 18,
   "id": "16bc5201",
   "metadata": {
    "execution": {
     "iopub.execute_input": "2022-10-02T18:46:33.880658Z",
     "iopub.status.busy": "2022-10-02T18:46:33.879850Z",
     "iopub.status.idle": "2022-10-02T18:46:33.887927Z",
     "shell.execute_reply": "2022-10-02T18:46:33.886854Z"
    },
    "papermill": {
     "duration": 0.021923,
     "end_time": "2022-10-02T18:46:33.890517",
     "exception": false,
     "start_time": "2022-10-02T18:46:33.868594",
     "status": "completed"
    },
    "tags": []
   },
   "outputs": [],
   "source": [
    "# Splitting the data into test & train\n",
    "from sklearn.model_selection import train_test_split\n",
    "xtrain, xtest, ytrain, ytest= train_test_split(X_resp,Y_resp, test_size=0.25, random_state=101)"
   ]
  },
  {
   "cell_type": "code",
   "execution_count": 19,
   "id": "df8206b5",
   "metadata": {
    "execution": {
     "iopub.execute_input": "2022-10-02T18:46:33.913523Z",
     "iopub.status.busy": "2022-10-02T18:46:33.912407Z",
     "iopub.status.idle": "2022-10-02T18:46:33.918518Z",
     "shell.execute_reply": "2022-10-02T18:46:33.917183Z"
    },
    "papermill": {
     "duration": 0.021189,
     "end_time": "2022-10-02T18:46:33.922016",
     "exception": false,
     "start_time": "2022-10-02T18:46:33.900827",
     "status": "completed"
    },
    "tags": []
   },
   "outputs": [
    {
     "name": "stdout",
     "output_type": "stream",
     "text": [
      "(1849, 27) (1849, 1)\n"
     ]
    }
   ],
   "source": [
    "print(xtrain.shape,ytrain.shape)"
   ]
  },
  {
   "cell_type": "code",
   "execution_count": 20,
   "id": "4be6be56",
   "metadata": {
    "execution": {
     "iopub.execute_input": "2022-10-02T18:46:33.945458Z",
     "iopub.status.busy": "2022-10-02T18:46:33.944465Z",
     "iopub.status.idle": "2022-10-02T18:46:33.999641Z",
     "shell.execute_reply": "2022-10-02T18:46:33.998429Z"
    },
    "papermill": {
     "duration": 0.070878,
     "end_time": "2022-10-02T18:46:34.003623",
     "exception": false,
     "start_time": "2022-10-02T18:46:33.932745",
     "status": "completed"
    },
    "tags": []
   },
   "outputs": [
    {
     "data": {
      "text/html": [
       "<style>#sk-container-id-1 {color: black;background-color: white;}#sk-container-id-1 pre{padding: 0;}#sk-container-id-1 div.sk-toggleable {background-color: white;}#sk-container-id-1 label.sk-toggleable__label {cursor: pointer;display: block;width: 100%;margin-bottom: 0;padding: 0.3em;box-sizing: border-box;text-align: center;}#sk-container-id-1 label.sk-toggleable__label-arrow:before {content: \"▸\";float: left;margin-right: 0.25em;color: #696969;}#sk-container-id-1 label.sk-toggleable__label-arrow:hover:before {color: black;}#sk-container-id-1 div.sk-estimator:hover label.sk-toggleable__label-arrow:before {color: black;}#sk-container-id-1 div.sk-toggleable__content {max-height: 0;max-width: 0;overflow: hidden;text-align: left;background-color: #f0f8ff;}#sk-container-id-1 div.sk-toggleable__content pre {margin: 0.2em;color: black;border-radius: 0.25em;background-color: #f0f8ff;}#sk-container-id-1 input.sk-toggleable__control:checked~div.sk-toggleable__content {max-height: 200px;max-width: 100%;overflow: auto;}#sk-container-id-1 input.sk-toggleable__control:checked~label.sk-toggleable__label-arrow:before {content: \"▾\";}#sk-container-id-1 div.sk-estimator input.sk-toggleable__control:checked~label.sk-toggleable__label {background-color: #d4ebff;}#sk-container-id-1 div.sk-label input.sk-toggleable__control:checked~label.sk-toggleable__label {background-color: #d4ebff;}#sk-container-id-1 input.sk-hidden--visually {border: 0;clip: rect(1px 1px 1px 1px);clip: rect(1px, 1px, 1px, 1px);height: 1px;margin: -1px;overflow: hidden;padding: 0;position: absolute;width: 1px;}#sk-container-id-1 div.sk-estimator {font-family: monospace;background-color: #f0f8ff;border: 1px dotted black;border-radius: 0.25em;box-sizing: border-box;margin-bottom: 0.5em;}#sk-container-id-1 div.sk-estimator:hover {background-color: #d4ebff;}#sk-container-id-1 div.sk-parallel-item::after {content: \"\";width: 100%;border-bottom: 1px solid gray;flex-grow: 1;}#sk-container-id-1 div.sk-label:hover label.sk-toggleable__label {background-color: #d4ebff;}#sk-container-id-1 div.sk-serial::before {content: \"\";position: absolute;border-left: 1px solid gray;box-sizing: border-box;top: 0;bottom: 0;left: 50%;z-index: 0;}#sk-container-id-1 div.sk-serial {display: flex;flex-direction: column;align-items: center;background-color: white;padding-right: 0.2em;padding-left: 0.2em;position: relative;}#sk-container-id-1 div.sk-item {position: relative;z-index: 1;}#sk-container-id-1 div.sk-parallel {display: flex;align-items: stretch;justify-content: center;background-color: white;position: relative;}#sk-container-id-1 div.sk-item::before, #sk-container-id-1 div.sk-parallel-item::before {content: \"\";position: absolute;border-left: 1px solid gray;box-sizing: border-box;top: 0;bottom: 0;left: 50%;z-index: -1;}#sk-container-id-1 div.sk-parallel-item {display: flex;flex-direction: column;z-index: 1;position: relative;background-color: white;}#sk-container-id-1 div.sk-parallel-item:first-child::after {align-self: flex-end;width: 50%;}#sk-container-id-1 div.sk-parallel-item:last-child::after {align-self: flex-start;width: 50%;}#sk-container-id-1 div.sk-parallel-item:only-child::after {width: 0;}#sk-container-id-1 div.sk-dashed-wrapped {border: 1px dashed gray;margin: 0 0.4em 0.5em 0.4em;box-sizing: border-box;padding-bottom: 0.4em;background-color: white;}#sk-container-id-1 div.sk-label label {font-family: monospace;font-weight: bold;display: inline-block;line-height: 1.2em;}#sk-container-id-1 div.sk-label-container {text-align: center;}#sk-container-id-1 div.sk-container {/* jupyter's `normalize.less` sets `[hidden] { display: none; }` but bootstrap.min.css set `[hidden] { display: none !important; }` so we also need the `!important` here to be able to override the default hidden behavior on the sphinx rendered scikit-learn.org. See: https://github.com/scikit-learn/scikit-learn/issues/21755 */display: inline-block !important;position: relative;}#sk-container-id-1 div.sk-text-repr-fallback {display: none;}</style><div id=\"sk-container-id-1\" class=\"sk-top-container\"><div class=\"sk-text-repr-fallback\"><pre>LogisticRegression()</pre><b>In a Jupyter environment, please rerun this cell to show the HTML representation or trust the notebook. <br />On GitHub, the HTML representation is unable to render, please try loading this page with nbviewer.org.</b></div><div class=\"sk-container\" hidden><div class=\"sk-item\"><div class=\"sk-estimator sk-toggleable\"><input class=\"sk-toggleable__control sk-hidden--visually\" id=\"sk-estimator-id-1\" type=\"checkbox\" checked><label for=\"sk-estimator-id-1\" class=\"sk-toggleable__label sk-toggleable__label-arrow\">LogisticRegression</label><div class=\"sk-toggleable__content\"><pre>LogisticRegression()</pre></div></div></div></div></div>"
      ],
      "text/plain": [
       "LogisticRegression()"
      ]
     },
     "execution_count": 20,
     "metadata": {},
     "output_type": "execute_result"
    }
   ],
   "source": [
    "# Applying Logistic Regression \n",
    "from sklearn.linear_model import LogisticRegression\n",
    "logisticreg= LogisticRegression()\n",
    "logisticreg.fit(xtrain, ytrain)\n"
   ]
  },
  {
   "cell_type": "code",
   "execution_count": 21,
   "id": "6ebc1c37",
   "metadata": {
    "execution": {
     "iopub.execute_input": "2022-10-02T18:46:34.059693Z",
     "iopub.status.busy": "2022-10-02T18:46:34.058768Z",
     "iopub.status.idle": "2022-10-02T18:46:34.072803Z",
     "shell.execute_reply": "2022-10-02T18:46:34.071084Z"
    },
    "papermill": {
     "duration": 0.047872,
     "end_time": "2022-10-02T18:46:34.077262",
     "exception": false,
     "start_time": "2022-10-02T18:46:34.029390",
     "status": "completed"
    },
    "tags": []
   },
   "outputs": [],
   "source": [
    "ypred_test=logisticreg.predict(xtest)\n",
    "ypred_train=logisticreg.predict(xtrain)"
   ]
  },
  {
   "cell_type": "code",
   "execution_count": 22,
   "id": "90796fd8",
   "metadata": {
    "execution": {
     "iopub.execute_input": "2022-10-02T18:46:34.134817Z",
     "iopub.status.busy": "2022-10-02T18:46:34.134077Z",
     "iopub.status.idle": "2022-10-02T18:46:34.158256Z",
     "shell.execute_reply": "2022-10-02T18:46:34.156793Z"
    },
    "papermill": {
     "duration": 0.058282,
     "end_time": "2022-10-02T18:46:34.163300",
     "exception": false,
     "start_time": "2022-10-02T18:46:34.105018",
     "status": "completed"
    },
    "tags": []
   },
   "outputs": [
    {
     "name": "stdout",
     "output_type": "stream",
     "text": [
      "0.7420227149810709\n",
      "###################################\n",
      "0.713128038897893\n"
     ]
    }
   ],
   "source": [
    "from sklearn.metrics import classification_report, confusion_matrix, accuracy_score\n",
    "print(accuracy_score(ypred_train, ytrain))\n",
    "print(\"###################################\")\n",
    "print(accuracy_score(ypred_test, ytest))"
   ]
  },
  {
   "cell_type": "code",
   "execution_count": 23,
   "id": "b2747a3f",
   "metadata": {
    "execution": {
     "iopub.execute_input": "2022-10-02T18:46:34.203557Z",
     "iopub.status.busy": "2022-10-02T18:46:34.203160Z",
     "iopub.status.idle": "2022-10-02T18:46:38.761758Z",
     "shell.execute_reply": "2022-10-02T18:46:38.760563Z"
    },
    "papermill": {
     "duration": 4.572643,
     "end_time": "2022-10-02T18:46:38.764166",
     "exception": false,
     "start_time": "2022-10-02T18:46:34.191523",
     "status": "completed"
    },
    "tags": []
   },
   "outputs": [
    {
     "data": {
      "text/html": [
       "<style>#sk-container-id-2 {color: black;background-color: white;}#sk-container-id-2 pre{padding: 0;}#sk-container-id-2 div.sk-toggleable {background-color: white;}#sk-container-id-2 label.sk-toggleable__label {cursor: pointer;display: block;width: 100%;margin-bottom: 0;padding: 0.3em;box-sizing: border-box;text-align: center;}#sk-container-id-2 label.sk-toggleable__label-arrow:before {content: \"▸\";float: left;margin-right: 0.25em;color: #696969;}#sk-container-id-2 label.sk-toggleable__label-arrow:hover:before {color: black;}#sk-container-id-2 div.sk-estimator:hover label.sk-toggleable__label-arrow:before {color: black;}#sk-container-id-2 div.sk-toggleable__content {max-height: 0;max-width: 0;overflow: hidden;text-align: left;background-color: #f0f8ff;}#sk-container-id-2 div.sk-toggleable__content pre {margin: 0.2em;color: black;border-radius: 0.25em;background-color: #f0f8ff;}#sk-container-id-2 input.sk-toggleable__control:checked~div.sk-toggleable__content {max-height: 200px;max-width: 100%;overflow: auto;}#sk-container-id-2 input.sk-toggleable__control:checked~label.sk-toggleable__label-arrow:before {content: \"▾\";}#sk-container-id-2 div.sk-estimator input.sk-toggleable__control:checked~label.sk-toggleable__label {background-color: #d4ebff;}#sk-container-id-2 div.sk-label input.sk-toggleable__control:checked~label.sk-toggleable__label {background-color: #d4ebff;}#sk-container-id-2 input.sk-hidden--visually {border: 0;clip: rect(1px 1px 1px 1px);clip: rect(1px, 1px, 1px, 1px);height: 1px;margin: -1px;overflow: hidden;padding: 0;position: absolute;width: 1px;}#sk-container-id-2 div.sk-estimator {font-family: monospace;background-color: #f0f8ff;border: 1px dotted black;border-radius: 0.25em;box-sizing: border-box;margin-bottom: 0.5em;}#sk-container-id-2 div.sk-estimator:hover {background-color: #d4ebff;}#sk-container-id-2 div.sk-parallel-item::after {content: \"\";width: 100%;border-bottom: 1px solid gray;flex-grow: 1;}#sk-container-id-2 div.sk-label:hover label.sk-toggleable__label {background-color: #d4ebff;}#sk-container-id-2 div.sk-serial::before {content: \"\";position: absolute;border-left: 1px solid gray;box-sizing: border-box;top: 0;bottom: 0;left: 50%;z-index: 0;}#sk-container-id-2 div.sk-serial {display: flex;flex-direction: column;align-items: center;background-color: white;padding-right: 0.2em;padding-left: 0.2em;position: relative;}#sk-container-id-2 div.sk-item {position: relative;z-index: 1;}#sk-container-id-2 div.sk-parallel {display: flex;align-items: stretch;justify-content: center;background-color: white;position: relative;}#sk-container-id-2 div.sk-item::before, #sk-container-id-2 div.sk-parallel-item::before {content: \"\";position: absolute;border-left: 1px solid gray;box-sizing: border-box;top: 0;bottom: 0;left: 50%;z-index: -1;}#sk-container-id-2 div.sk-parallel-item {display: flex;flex-direction: column;z-index: 1;position: relative;background-color: white;}#sk-container-id-2 div.sk-parallel-item:first-child::after {align-self: flex-end;width: 50%;}#sk-container-id-2 div.sk-parallel-item:last-child::after {align-self: flex-start;width: 50%;}#sk-container-id-2 div.sk-parallel-item:only-child::after {width: 0;}#sk-container-id-2 div.sk-dashed-wrapped {border: 1px dashed gray;margin: 0 0.4em 0.5em 0.4em;box-sizing: border-box;padding-bottom: 0.4em;background-color: white;}#sk-container-id-2 div.sk-label label {font-family: monospace;font-weight: bold;display: inline-block;line-height: 1.2em;}#sk-container-id-2 div.sk-label-container {text-align: center;}#sk-container-id-2 div.sk-container {/* jupyter's `normalize.less` sets `[hidden] { display: none; }` but bootstrap.min.css set `[hidden] { display: none !important; }` so we also need the `!important` here to be able to override the default hidden behavior on the sphinx rendered scikit-learn.org. See: https://github.com/scikit-learn/scikit-learn/issues/21755 */display: inline-block !important;position: relative;}#sk-container-id-2 div.sk-text-repr-fallback {display: none;}</style><div id=\"sk-container-id-2\" class=\"sk-top-container\"><div class=\"sk-text-repr-fallback\"><pre>RandomForestClassifier(n_estimators=1000)</pre><b>In a Jupyter environment, please rerun this cell to show the HTML representation or trust the notebook. <br />On GitHub, the HTML representation is unable to render, please try loading this page with nbviewer.org.</b></div><div class=\"sk-container\" hidden><div class=\"sk-item\"><div class=\"sk-estimator sk-toggleable\"><input class=\"sk-toggleable__control sk-hidden--visually\" id=\"sk-estimator-id-2\" type=\"checkbox\" checked><label for=\"sk-estimator-id-2\" class=\"sk-toggleable__label sk-toggleable__label-arrow\">RandomForestClassifier</label><div class=\"sk-toggleable__content\"><pre>RandomForestClassifier(n_estimators=1000)</pre></div></div></div></div></div>"
      ],
      "text/plain": [
       "RandomForestClassifier(n_estimators=1000)"
      ]
     },
     "execution_count": 23,
     "metadata": {},
     "output_type": "execute_result"
    }
   ],
   "source": [
    "# Lets improvise our model and use Random Forest\n",
    "# Using Random Forest\n",
    "from sklearn.ensemble import RandomForestClassifier\n",
    "random_class=RandomForestClassifier(n_estimators=1000, criterion='gini')\n",
    "random_class.fit(xtrain, ytrain)"
   ]
  },
  {
   "cell_type": "code",
   "execution_count": 24,
   "id": "582d91c9",
   "metadata": {
    "execution": {
     "iopub.execute_input": "2022-10-02T18:46:38.786505Z",
     "iopub.status.busy": "2022-10-02T18:46:38.786080Z",
     "iopub.status.idle": "2022-10-02T18:46:39.459364Z",
     "shell.execute_reply": "2022-10-02T18:46:39.458290Z"
    },
    "papermill": {
     "duration": 0.687703,
     "end_time": "2022-10-02T18:46:39.462107",
     "exception": false,
     "start_time": "2022-10-02T18:46:38.774404",
     "status": "completed"
    },
    "tags": []
   },
   "outputs": [],
   "source": [
    "ypred_test_rf=random_class.predict(xtest)\n",
    "ypred_train_rf=random_class.predict(xtrain)"
   ]
  },
  {
   "cell_type": "code",
   "execution_count": 25,
   "id": "b962bcb0",
   "metadata": {
    "execution": {
     "iopub.execute_input": "2022-10-02T18:46:39.484439Z",
     "iopub.status.busy": "2022-10-02T18:46:39.484046Z",
     "iopub.status.idle": "2022-10-02T18:46:39.494632Z",
     "shell.execute_reply": "2022-10-02T18:46:39.493414Z"
    },
    "papermill": {
     "duration": 0.024786,
     "end_time": "2022-10-02T18:46:39.497176",
     "exception": false,
     "start_time": "2022-10-02T18:46:39.472390",
     "status": "completed"
    },
    "tags": []
   },
   "outputs": [
    {
     "name": "stdout",
     "output_type": "stream",
     "text": [
      "Train Accuracy-1.0\n",
      "###################################\n",
      "Test Accuracy-0.9205834683954619\n"
     ]
    }
   ],
   "source": [
    "print(f'Train Accuracy-{accuracy_score(ypred_train_rf, ytrain)}')\n",
    "print(\"###################################\")\n",
    "print(f'Test Accuracy-{accuracy_score(ypred_test_rf, ytest)}')"
   ]
  },
  {
   "cell_type": "code",
   "execution_count": 26,
   "id": "b63d48ec",
   "metadata": {
    "execution": {
     "iopub.execute_input": "2022-10-02T18:46:39.519953Z",
     "iopub.status.busy": "2022-10-02T18:46:39.519580Z",
     "iopub.status.idle": "2022-10-02T18:46:39.547778Z",
     "shell.execute_reply": "2022-10-02T18:46:39.545986Z"
    },
    "papermill": {
     "duration": 0.042648,
     "end_time": "2022-10-02T18:46:39.550347",
     "exception": false,
     "start_time": "2022-10-02T18:46:39.507699",
     "status": "completed"
    },
    "tags": []
   },
   "outputs": [
    {
     "name": "stdout",
     "output_type": "stream",
     "text": [
      "              precision    recall  f1-score   support\n",
      "\n",
      "          No       0.91      0.94      0.92       318\n",
      "         Yes       0.93      0.90      0.92       299\n",
      "\n",
      "    accuracy                           0.92       617\n",
      "   macro avg       0.92      0.92      0.92       617\n",
      "weighted avg       0.92      0.92      0.92       617\n",
      "\n"
     ]
    }
   ],
   "source": [
    "print(classification_report(ytest, ypred_test_rf))"
   ]
  },
  {
   "cell_type": "code",
   "execution_count": 27,
   "id": "c8cc736f",
   "metadata": {
    "execution": {
     "iopub.execute_input": "2022-10-02T18:46:39.573078Z",
     "iopub.status.busy": "2022-10-02T18:46:39.572703Z",
     "iopub.status.idle": "2022-10-02T18:46:39.583177Z",
     "shell.execute_reply": "2022-10-02T18:46:39.581619Z"
    },
    "papermill": {
     "duration": 0.025509,
     "end_time": "2022-10-02T18:46:39.586259",
     "exception": false,
     "start_time": "2022-10-02T18:46:39.560750",
     "status": "completed"
    },
    "tags": []
   },
   "outputs": [
    {
     "name": "stdout",
     "output_type": "stream",
     "text": [
      "[[299  19]\n",
      " [ 30 269]]\n"
     ]
    }
   ],
   "source": [
    "print(confusion_matrix(ytest, ypred_test_rf))"
   ]
  },
  {
   "cell_type": "code",
   "execution_count": 28,
   "id": "477de5af",
   "metadata": {
    "execution": {
     "iopub.execute_input": "2022-10-02T18:46:39.609840Z",
     "iopub.status.busy": "2022-10-02T18:46:39.609462Z",
     "iopub.status.idle": "2022-10-02T18:47:14.163092Z",
     "shell.execute_reply": "2022-10-02T18:47:14.161980Z"
    },
    "papermill": {
     "duration": 34.568547,
     "end_time": "2022-10-02T18:47:14.165788",
     "exception": false,
     "start_time": "2022-10-02T18:46:39.597241",
     "status": "completed"
    },
    "tags": []
   },
   "outputs": [],
   "source": [
    "# Using KFOLD to increase more accuracy\n",
    "from sklearn.model_selection import cross_val_score\n",
    "cvs_test= cross_val_score(random_class, xtest, ytest, cv=15)"
   ]
  },
  {
   "cell_type": "code",
   "execution_count": 29,
   "id": "9f9687f7",
   "metadata": {
    "execution": {
     "iopub.execute_input": "2022-10-02T18:47:14.188507Z",
     "iopub.status.busy": "2022-10-02T18:47:14.188095Z",
     "iopub.status.idle": "2022-10-02T18:47:14.197559Z",
     "shell.execute_reply": "2022-10-02T18:47:14.196395Z"
    },
    "papermill": {
     "duration": 0.024048,
     "end_time": "2022-10-02T18:47:14.200412",
     "exception": false,
     "start_time": "2022-10-02T18:47:14.176364",
     "status": "completed"
    },
    "tags": []
   },
   "outputs": [
    {
     "name": "stdout",
     "output_type": "stream",
     "text": [
      "Train Accuracy-1.0\n",
      "Test Accuracy-0.9512195121951219\n"
     ]
    }
   ],
   "source": [
    "# Final Accuracies-:\n",
    "print(f'Train Accuracy-{accuracy_score(ypred_train_rf, ytrain)}')\n",
    "print(f'Test Accuracy-{cvs_test.max()}')"
   ]
  },
  {
   "cell_type": "code",
   "execution_count": null,
   "id": "940f7aae",
   "metadata": {
    "papermill": {
     "duration": 0.010261,
     "end_time": "2022-10-02T18:47:14.222306",
     "exception": false,
     "start_time": "2022-10-02T18:47:14.212045",
     "status": "completed"
    },
    "tags": []
   },
   "outputs": [],
   "source": []
  }
 ],
 "metadata": {
  "kernelspec": {
   "display_name": "Python 3 (ipykernel)",
   "language": "python",
   "name": "python3"
  },
  "language_info": {
   "codemirror_mode": {
    "name": "ipython",
    "version": 3
   },
   "file_extension": ".py",
   "mimetype": "text/x-python",
   "name": "python",
   "nbconvert_exporter": "python",
   "pygments_lexer": "ipython3",
   "version": "3.9.12"
  },
  "papermill": {
   "default_parameters": {},
   "duration": 53.264435,
   "end_time": "2022-10-02T18:47:15.056430",
   "environment_variables": {},
   "exception": null,
   "input_path": "__notebook__.ipynb",
   "output_path": "__notebook__.ipynb",
   "parameters": {},
   "start_time": "2022-10-02T18:46:21.791995",
   "version": "2.3.4"
  }
 },
 "nbformat": 4,
 "nbformat_minor": 5
}
